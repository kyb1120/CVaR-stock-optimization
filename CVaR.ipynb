{
 "cells": [
  {
   "cell_type": "code",
   "execution_count": 1,
   "metadata": {},
   "outputs": [],
   "source": [
    "import pandas as pd\n",
    "import numpy as np\n",
    "import matplotlib.pyplot as plt\n",
    "from pulp import *\n",
    "from scipy.optimize import linprog"
   ]
  },
  {
   "attachments": {},
   "cell_type": "markdown",
   "metadata": {},
   "source": [
    "## Scratch Work"
   ]
  },
  {
   "attachments": {},
   "cell_type": "markdown",
   "metadata": {},
   "source": [
    "#### the main code is at the bottom"
   ]
  },
  {
   "cell_type": "code",
   "execution_count": 3,
   "metadata": {},
   "outputs": [],
   "source": [
    "def nonzero_arr(J,alpha):\n",
    "    np.set_printoptions(formatter={'float': lambda x: \"{:.2f}\".format(x)})\n",
    "    arr = np.full((1, J), 1 / (J * (1 - alpha)))\n",
    "    flat_arr = np.squeeze(arr)\n",
    "    rounded_arr = np.round(flat_arr, 2)\n",
    "    print(np.array2string(rounded_arr, separator=', '))\n"
   ]
  },
  {
   "cell_type": "code",
   "execution_count": 12,
   "metadata": {},
   "outputs": [
    {
     "data": {
      "text/plain": [
       "array([[ 0.,  0.,  0.,  0.,  0., 20., 20., 20., 20., 20.,  1.]])"
      ]
     },
     "execution_count": 12,
     "metadata": {},
     "output_type": "execute_result"
    }
   ],
   "source": [
    "def first_constraint(J, n, alpha):\n",
    "    nonzero_arr = np.full((1, J+1), 1 / (J * (1 - alpha)))\n",
    "    # nonzero_arr = np.round(np.squeeze(nonzero_arr))\n",
    "    nonzero_arr[-1,-1] = 1\n",
    "    zero_arr = np.zeros((1,n))\n",
    "    return np.concatenate((zero_arr, nonzero_arr), axis=1)\n",
    "first_constraint(5,5,0.99)"
   ]
  },
  {
   "cell_type": "code",
   "execution_count": null,
   "metadata": {},
   "outputs": [],
   "source": [
    "# def create_named_matrix(rows, cols, prefix):\n",
    "#     matrix = np.zeros((rows, cols + 1), dtype=object)\n",
    "#     for i in range(rows):\n",
    "#         for j in range(cols):\n",
    "#             name = prefix + str(i+1) + str(j+1)\n",
    "#             matrix[i, j] = '-' + name\n",
    "#         matrix[i, -1] = -1\n",
    "#     return matrix\n",
    "\n",
    "# create_named_matrix(3,5,'y')\n"
   ]
  },
  {
   "cell_type": "code",
   "execution_count": 13,
   "metadata": {},
   "outputs": [
    {
     "data": {
      "text/plain": [
       "array([[ -1.,  -2.,  -3.,  -4.],\n",
       "       [ -5.,  -6.,  -7.,  -8.],\n",
       "       [ -9., -10., -11., -12.]])"
      ]
     },
     "execution_count": 13,
     "metadata": {},
     "output_type": "execute_result"
    }
   ],
   "source": [
    "def create_matrix(J, n, data=None):\n",
    "    \n",
    "    matrix = np.zeros((J, n))\n",
    "    # matrix[:, -1] = -1\n",
    "    if data is not None:\n",
    "        matrix[:data.shape[0], :data.shape[1]] = data * -1\n",
    "    return matrix\n",
    "\n",
    "create_matrix(3,4, data=np.array([[1, 2, 3, 4], [5, 6, 7, 8], [9, 10, 11, 12]]))"
   ]
  },
  {
   "cell_type": "code",
   "execution_count": null,
   "metadata": {},
   "outputs": [],
   "source": [
    "# gets the mean value of the column vector (y11, y12, ...)\n",
    "# def meanValofYs(J, n, data=None):\n",
    "#     matrix = np.zeros((n, n+1))\n",
    "#     matrix[:, -1] = -1\n",
    "#     if data is not None:\n",
    "#         matrix[:data.shape[0], :data.shape[1]] = data\n",
    "    \n",
    "#     def column_averages(matrix):\n",
    "#         averages = []\n",
    "#         for i in range(matrix.shape[1]-1):\n",
    "#             col_sum = np.sum(matrix[:, i])\n",
    "#             col_avg = col_sum / matrix.shape[0]\n",
    "#             averages.append(col_avg)\n",
    "#         return averages\n",
    "    \n",
    "#     return column_averages(matrix)\n",
    "\n",
    "# meanValofYs(3,4,data=np.array([[1, 2, 3, 4], [5, 6, 7, 8], [9, 10, 11, 12]]))\n",
    "# meanValofYs(6,3,None)"
   ]
  },
  {
   "cell_type": "code",
   "execution_count": 14,
   "metadata": {},
   "outputs": [
    {
     "data": {
      "text/plain": [
       "[-0.0, -0.0, -0.0, 0, 0, 0, 0, 0, 0, 0]"
      ]
     },
     "execution_count": 14,
     "metadata": {},
     "output_type": "execute_result"
    }
   ],
   "source": [
    "def objective_func(J, n, data=None):\n",
    "    matrix = np.zeros((J, n+1))\n",
    "    matrix[:, -1] = -1\n",
    "    if data is not None:\n",
    "        matrix[:data.shape[0], :data.shape[1]] = data\n",
    "    \n",
    "    def column_averages(matrix):\n",
    "        averages = []\n",
    "        for i in range(matrix.shape[1]-1):\n",
    "            col_sum = np.sum(matrix[:, i])\n",
    "            col_avg = col_sum / matrix.shape[0]\n",
    "            averages.append(col_avg * -1)  # multiply each average by -1\n",
    "        return averages\n",
    "    \n",
    "    return column_averages(matrix) + [0]*(J+1)\n",
    "\n",
    "objective_func(6,3,None)"
   ]
  },
  {
   "cell_type": "code",
   "execution_count": 15,
   "metadata": {},
   "outputs": [
    {
     "data": {
      "text/plain": [
       "array([[-1,  0,  0, -1],\n",
       "       [ 0, -1,  0, -1],\n",
       "       [ 0,  0, -1, -1]])"
      ]
     },
     "execution_count": 15,
     "metadata": {},
     "output_type": "execute_result"
    }
   ],
   "source": [
    "def negID_matrix(J):\n",
    "    matrix = np.zeros((J, J+1), dtype=int)\n",
    "    matrix[:, -1] = -1\n",
    "    for i in range(J):\n",
    "        if i < J:\n",
    "            matrix[i, i] = -1\n",
    "    return matrix\n",
    "\n",
    "negID_matrix(3)"
   ]
  },
  {
   "cell_type": "code",
   "execution_count": 16,
   "metadata": {},
   "outputs": [
    {
     "data": {
      "text/plain": [
       "array([[ 0.,  0.,  0., -1.,  0.,  0.,  0.,  0., -1.],\n",
       "       [ 0.,  0.,  0.,  0., -1.,  0.,  0.,  0., -1.],\n",
       "       [ 0.,  0.,  0.,  0.,  0., -1.,  0.,  0., -1.],\n",
       "       [ 0.,  0.,  0.,  0.,  0.,  0., -1.,  0., -1.],\n",
       "       [ 0.,  0.,  0.,  0.,  0.,  0.,  0., -1., -1.]])"
      ]
     },
     "execution_count": 16,
     "metadata": {},
     "output_type": "execute_result"
    }
   ],
   "source": [
    "def second_constraint(J,n,data):\n",
    "    A = create_matrix(J, n, data)\n",
    "    B = negID_matrix(J)  \n",
    "    C = np.concatenate((A,B), axis=1)\n",
    "    return C\n",
    "\n",
    "second_constraint(5,3,None)"
   ]
  },
  {
   "cell_type": "code",
   "execution_count": null,
   "metadata": {},
   "outputs": [],
   "source": [
    "first_constraint(5,3,0.95)"
   ]
  },
  {
   "attachments": {},
   "cell_type": "markdown",
   "metadata": {},
   "source": [
    "## matrix A"
   ]
  },
  {
   "cell_type": "code",
   "execution_count": 21,
   "metadata": {},
   "outputs": [
    {
     "data": {
      "text/plain": [
       "array([[ 0.,  0.,  0.,  4.,  4.,  4.,  4.,  4.,  1.],\n",
       "       [ 0.,  0.,  0., -1.,  0.,  0.,  0.,  0., -1.],\n",
       "       [ 0.,  0.,  0.,  0., -1.,  0.,  0.,  0., -1.],\n",
       "       [ 0.,  0.,  0.,  0.,  0., -1.,  0.,  0., -1.],\n",
       "       [ 0.,  0.,  0.,  0.,  0.,  0., -1.,  0., -1.],\n",
       "       [ 0.,  0.,  0.,  0.,  0.,  0.,  0., -1., -1.]])"
      ]
     },
     "execution_count": 21,
     "metadata": {},
     "output_type": "execute_result"
    }
   ],
   "source": [
    "def matrix_A(J, n, alpha, data):\n",
    "    first = first_constraint(J, n, alpha)\n",
    "    second = second_constraint(J, n, data)\n",
    "\n",
    "    # return first, second\n",
    "    # return np.concatenate((np.array([first]), second))\n",
    "    return np.concatenate((first, second))\n",
    "\n",
    "matrix_A(5,3,0.95,None)"
   ]
  },
  {
   "attachments": {},
   "cell_type": "markdown",
   "metadata": {},
   "source": [
    "================================================================="
   ]
  },
  {
   "cell_type": "code",
   "execution_count": 22,
   "metadata": {},
   "outputs": [
    {
     "name": "stdout",
     "output_type": "stream",
     "text": [
      "[0. 0. 0.]\n"
     ]
    }
   ],
   "source": [
    "def average_up_to_n(A, n):\n",
    "    return np.mean(A[:, :n], axis=0)\n",
    "\n",
    "A = matrix_A(6, 3, 0.95, None)\n",
    "average_cols = average_up_to_n(A, 3)\n",
    "print(average_cols)"
   ]
  },
  {
   "cell_type": "code",
   "execution_count": 23,
   "metadata": {},
   "outputs": [],
   "source": [
    "from scipy.optimize import linprog"
   ]
  },
  {
   "cell_type": "code",
   "execution_count": 24,
   "metadata": {},
   "outputs": [
    {
     "data": {
      "text/plain": [
       "(30.0, -10.0)"
      ]
     },
     "execution_count": 24,
     "metadata": {},
     "output_type": "execute_result"
    }
   ],
   "source": [
    "#these are the functions for the column matrix 'b' in the inequality Ax <= b\n",
    "def b1(n, omega):\n",
    "    q = np.ones(n) # FIXME\n",
    "    x0 = np.ones(n) # FIXME\n",
    "    # print(q, x0)\n",
    "    return omega*sum(q[i]*x0[i] for i in range(n))\n",
    "\n",
    "def b2(n):\n",
    "    q = np.ones(n) # FIXME\n",
    "    x0 = np.ones(n) # FIXME\n",
    "    # print(q, x0)\n",
    "    return -1* sum(q[i]*x0[i] for i in range(n))\n",
    "\n",
    "b1(10,3), b2(10)\n",
    "\n"
   ]
  },
  {
   "cell_type": "code",
   "execution_count": 25,
   "metadata": {},
   "outputs": [
    {
     "data": {
      "text/plain": [
       "array([  5., -10., -10., -10., -10., -10., -10.])"
      ]
     },
     "execution_count": 25,
     "metadata": {},
     "output_type": "execute_result"
    }
   ],
   "source": [
    "# column matrix 'b' in the inequality Ax <= b\n",
    "def column_b(J,n, omega):\n",
    "    first = np.array([b1(n, omega)])\n",
    "    rest = np.array([b2(n) for i in range(J)])\n",
    "    return np.concatenate((first, rest), axis=None)\n",
    "\n",
    "column_b(6,10,0.5)\n",
    "\n"
   ]
  },
  {
   "cell_type": "code",
   "execution_count": 42,
   "metadata": {},
   "outputs": [
    {
     "data": {
      "text/plain": [
       "(array([-5.012, -5.01 , -5.036, ...,  0.   ,  0.   ,  0.   ]),\n",
       " array([[ 0.   ,  0.   ,  0.   , ...,  0.01 ,  0.01 ,  1.   ],\n",
       "        [-2.37 , -0.509, -9.587, ...,  0.   ,  0.   , -1.   ],\n",
       "        [-9.767, -3.46 , -3.797, ...,  0.   ,  0.   , -1.   ],\n",
       "        ...,\n",
       "        [-2.165, -3.529, -1.071, ...,  0.   ,  0.   , -1.   ],\n",
       "        [-8.884, -5.448, -1.987, ..., -1.   ,  0.   , -1.   ],\n",
       "        [-3.414, -7.902, -8.876, ...,  0.   , -1.   , -1.   ]]),\n",
       " array([ 15., -30., -30., ..., -30., -30., -30.]),\n",
       " array([[236.394, 282.302, 257.257,   0.   ,   0.   ,   0.   ,   0.   ,\n",
       "           0.   ,   0.   ]]),\n",
       " 24226.612170246597)"
      ]
     },
     "execution_count": 42,
     "metadata": {},
     "output_type": "execute_result"
    }
   ],
   "source": [
    "c = np.array(objective_func(10000,30,data=ran)) # 10 variables\n",
    "A = matrix_A(10000,30,0.99, data=ran)\n",
    "b = column_b(10000,30,0.5)\n",
    "aeq = np.array([[236.394, 282.302, 257.257,   0.   ,   0.   ,   0.   ,   0.   ,\n",
    "           0.   ,   0.   ]])\n",
    "beq = 24226.612170246597\n",
    "\n",
    "# np.set_printoptions(threshold=np.inf)\n",
    "c,A,b,aeq,beq\n",
    "\n",
    "# res = linprog(c=c, A_ub =A, b_ub =b, A_eq = aeq, b_eq = beq, bounds=[(0,None)]*(10000+30+1))\n",
    "\n",
    "# res.message"
   ]
  },
  {
   "attachments": {},
   "cell_type": "markdown",
   "metadata": {},
   "source": [
    "# ======================================="
   ]
  },
  {
   "cell_type": "code",
   "execution_count": 46,
   "metadata": {},
   "outputs": [
    {
     "data": {
      "text/plain": [
       "(array([[234.394,  89.358,  57.423, ...,   0.   ,   0.   ,   0.   ]]),\n",
       " 238009.06254030933)"
      ]
     },
     "execution_count": 46,
     "metadata": {},
     "output_type": "execute_result"
    }
   ],
   "source": [
    "def equality_equ(J,n):\n",
    "    x0 = np.random.uniform(0,300, size=n) # initial stock values\n",
    "    q = np.random.uniform(0,100, size=n) # stock share\n",
    "\n",
    "    A_eq = np.array([[x0[i] if i<n else 0 for i in range(n+J+1)]])\n",
    "    b_eq = sum(q[i]*x0[i] for i in range(n))\n",
    "    return A_eq, b_eq\n",
    "\n",
    "equality_equ(10000,30)"
   ]
  },
  {
   "cell_type": "code",
   "execution_count": 94,
   "metadata": {},
   "outputs": [
    {
     "data": {
      "text/plain": [
       "(array([[4.818, 8.513, 8.649, ..., 3.205, 0.943, 2.969],\n",
       "        [1.036, 0.689, 6.185, ..., 5.056, 0.79 , 3.402],\n",
       "        [8.689, 5.655, 7.704, ..., 1.766, 3.149, 2.732],\n",
       "        ...,\n",
       "        [4.378, 7.259, 9.873, ..., 5.238, 9.358, 7.893],\n",
       "        [9.318, 0.234, 3.708, ..., 3.417, 7.734, 5.914],\n",
       "        [9.15 , 6.748, 8.825, ..., 7.256, 6.936, 6.043]]),\n",
       " (10000, 30))"
      ]
     },
     "execution_count": 94,
     "metadata": {},
     "output_type": "execute_result"
    }
   ],
   "source": [
    "# arbitrarily made matrix for number of stocks with scenarios\n",
    "ran = np.random.uniform(0,10, size=(10000,30))\n",
    "np.set_printoptions(precision= 3, suppress=True)\n",
    "\n",
    "ran, ran.shape"
   ]
  },
  {
   "attachments": {},
   "cell_type": "markdown",
   "metadata": {},
   "source": [
    "# ================================================================================="
   ]
  },
  {
   "cell_type": "code",
   "execution_count": 91,
   "metadata": {},
   "outputs": [],
   "source": [
    "\n",
    "def main(J,n, alpha, omega, data):\n",
    "\n",
    "    def nonzero_arr(J,alpha):\n",
    "        np.set_printoptions(formatter={'float': lambda x: \"{:.2f}\".format(x)})\n",
    "        arr = np.full((1, J), 1 / (J * (1 - alpha)))\n",
    "        flat_arr = np.squeeze(arr)\n",
    "        rounded_arr = np.round(flat_arr, 2)\n",
    "        print(np.array2string(rounded_arr, separator=', '))\n",
    "\n",
    "    def first_constraint(J, n, alpha):\n",
    "        nonzero_arr = np.full((1, J+1), 1 / (J * (1 - alpha)))\n",
    "        # nonzero_arr = np.round(np.squeeze(nonzero_arr))\n",
    "        nonzero_arr[-1,-1] = 1\n",
    "        zero_arr = np.zeros((1,n))\n",
    "        return np.concatenate((zero_arr, nonzero_arr), axis=1)\n",
    "    \n",
    "    def create_matrix(J, n, data=None):\n",
    "        matrix = np.zeros((J, n))\n",
    "        # matrix[:, -1] = -1\n",
    "        if data is not None:\n",
    "            matrix[:data.shape[0], :data.shape[1]] = data * -1\n",
    "        return matrix\n",
    "\n",
    "    def objective_func(J, n, data=None):\n",
    "        matrix = np.zeros((J, n+1))\n",
    "        matrix[:, -1] = -1\n",
    "        if data is not None:\n",
    "            matrix[:data.shape[0], :data.shape[1]] = data\n",
    "        \n",
    "        def column_averages(matrix):\n",
    "            averages = []\n",
    "            for i in range(matrix.shape[1]-1):\n",
    "                col_sum = np.sum(matrix[:, i])\n",
    "                col_avg = col_sum / matrix.shape[0]\n",
    "                averages.append(col_avg * -1)  # multiply each average by -1\n",
    "            return averages\n",
    "        \n",
    "        return column_averages(matrix) + [0]*(J+1)\n",
    "    \n",
    "    def negID_matrix(J):\n",
    "        matrix = np.zeros((J, J+1), dtype=int)\n",
    "        matrix[:, -1] = -1\n",
    "        for i in range(J):\n",
    "            if i < J:\n",
    "                matrix[i, i] = -1\n",
    "        return matrix\n",
    "    \n",
    "    def second_constraint(J,n,data):\n",
    "        A = create_matrix(J, n, data)\n",
    "        B = negID_matrix(J)  \n",
    "        C = np.concatenate((A,B), axis=1)\n",
    "        return C\n",
    "    \n",
    "    def matrix_A(J, n, alpha, data):\n",
    "        first = first_constraint(J, n, alpha)\n",
    "        second = second_constraint(J, n, data)\n",
    "\n",
    "        # return first, second\n",
    "        # return np.concatenate((np.array([first]), second))\n",
    "        return np.concatenate((first, second))\n",
    "    \n",
    "    def average_up_to_n(A, n):\n",
    "        return np.mean(A[:, :n], axis=0)\n",
    "    \n",
    "    def b1(n, omega):\n",
    "        q = np.ones(n) # FIXME\n",
    "        x0 = np.ones(n) # FIXME\n",
    "        # print(q, x0)\n",
    "        return omega*sum(q[i]*x0[i] for i in range(n))\n",
    "\n",
    "    def b2(n):\n",
    "        q = np.ones(n) # FIXME\n",
    "        x0 = np.ones(n) # FIXME\n",
    "        # print(q, x0)\n",
    "        return -1* sum(q[i]*x0[i] for i in range(n))\n",
    "    \n",
    "    def column_b(J,n, omega):\n",
    "        first = np.array([b1(n, omega)])\n",
    "        rest = np.array([b2(n) for i in range(J)])\n",
    "        return np.concatenate((first, rest), axis=None)\n",
    "    \n",
    "\n",
    "    x0 = np.random.uniform(0,300, size=n)\n",
    "    q = np.random.uniform(0,100, size=n)\n",
    "\n",
    "    c = np.array(objective_func(J,n,data)) # objective function\n",
    "    A = matrix_A(J,n,alpha, data)   # matrix A\n",
    "    b = column_b(J,n,omega)     # constraint of matrix A\n",
    "    aeq = np.array([[x0[i] if i<n else 0 for i in range(n+J+1)]])\n",
    "    beq = sum(q[i]*x0[i] for i in range(n))\n",
    "\n",
    "    res = linprog(c=c, A_ub =A, b_ub =b, A_eq = aeq, b_eq = beq, bounds=[(0,None)]*(J+n+1))\n",
    "\n",
    "\n",
    "\n",
    "\n",
    "\n",
    "    return x0,q,c,A,b,aeq,beq, res.fun, res\n",
    "\n",
    "\n"
   ]
  },
  {
   "cell_type": "code",
   "execution_count": 108,
   "metadata": {},
   "outputs": [],
   "source": [
    "# this is more human-friednly structured than 'main'\n",
    "# This is the actual function that I used to carry on.\n",
    "\n",
    "\n",
    "def main2(J,n, alpha, omega, data):\n",
    "    '''\n",
    "    There are mainly 3 functions in main2:\n",
    "        1. function that creates the objective function\n",
    "        2. function that creates matrix A \n",
    "        3. function that creates the column vector b\n",
    "    \n",
    "    '''\n",
    "\n",
    "    def objective_func(J, n, data=None): # this is the objective function\n",
    "        matrix = np.zeros((J, n+1))\n",
    "        matrix[:, -1] = -1\n",
    "        if data is not None:\n",
    "            matrix[:data.shape[0], :data.shape[1]] = data\n",
    "        \n",
    "        def column_averages(matrix):\n",
    "            averages = []\n",
    "            for i in range(matrix.shape[1]-1):\n",
    "                col_sum = np.sum(matrix[:, i])\n",
    "                col_avg = col_sum / matrix.shape[0]\n",
    "                averages.append(col_avg * -1)  # multiply each average by -1\n",
    "            return averages\n",
    "        \n",
    "        return column_averages(matrix) + [0]*(J+1)\n",
    "    \n",
    "\n",
    "    def matrix_A(J, n, alpha, data): # this defines the A matrix\n",
    "\n",
    "        def first_constraint(J, n, alpha):\n",
    "\n",
    "            def nonzero_arr(J,alpha):\n",
    "                np.set_printoptions(formatter={'float': lambda x: \"{:.2f}\".format(x)})\n",
    "                arr = np.full((1, J), 1 / (J * (1 - alpha)))\n",
    "                flat_arr = np.squeeze(arr)\n",
    "                rounded_arr = np.round(flat_arr, 2)\n",
    "                print(np.array2string(rounded_arr, separator=', '))\n",
    "\n",
    "            nonzero_arr = np.full((1, J+1), 1 / (J * (1 - alpha)))\n",
    "            # nonzero_arr = np.round(np.squeeze(nonzero_arr))\n",
    "            nonzero_arr[-1,-1] = 1\n",
    "            zero_arr = np.zeros((1,n))\n",
    "            return np.concatenate((zero_arr, nonzero_arr), axis=1)\n",
    "\n",
    "        def second_constraint(J,n,data):\n",
    "\n",
    "            def create_matrix(J, n, data=None):\n",
    "                matrix = np.zeros((J, n))\n",
    "                # matrix[:, -1] = -1\n",
    "                if data is not None:\n",
    "                    matrix[:data.shape[0], :data.shape[1]] = data * -1\n",
    "                return matrix\n",
    "            \n",
    "            def negID_matrix(J):\n",
    "                matrix = np.zeros((J, J+1), dtype=int)\n",
    "                matrix[:, -1] = -1\n",
    "                for i in range(J):\n",
    "                    if i < J:\n",
    "                        matrix[i, i] = -1\n",
    "                return matrix\n",
    "            \n",
    "            A = create_matrix(J, n, data)\n",
    "            B = negID_matrix(J)  \n",
    "            C = np.concatenate((A,B), axis=1)\n",
    "            return C\n",
    "    \n",
    "        first = first_constraint(J, n, alpha)\n",
    "        second = second_constraint(J, n, data)\n",
    "\n",
    "        # return first, second\n",
    "        # return np.concatenate((np.array([first]), second))\n",
    "        return np.concatenate((first, second))\n",
    "    \n",
    "    \n",
    "    def column_b(J,n, omega): # this defines column vector b on the right side of the inequality\n",
    "\n",
    "        def b1(n, omega):\n",
    "                q = np.ones(n) # FIXME\n",
    "                x0 = np.ones(n) # FIXME\n",
    "                # print(q, x0)\n",
    "                return omega*sum(q[i]*x0[i] for i in range(n))\n",
    "\n",
    "        def b2(n):\n",
    "            q = np.ones(n) # FIXME\n",
    "            x0 = np.ones(n) # FIXME\n",
    "            # print(q, x0)\n",
    "            return -1* sum(q[i]*x0[i] for i in range(n))\n",
    "\n",
    "        first = np.array([b1(n, omega)])\n",
    "        rest = np.array([b2(n) for i in range(J)])\n",
    "        return np.concatenate((first, rest), axis=None)\n",
    "\n",
    "\n",
    "    x0 = np.random.uniform(0,300, size=n) #this is supposed to be the initial number of stocks\n",
    "    q = np.random.uniform(0,100, size=n)\n",
    "\n",
    "    c = np.array(objective_func(J,n,data)) # objective function\n",
    "    A = matrix_A(J,n,alpha, data)   # matrix A\n",
    "    b = column_b(J,n,omega)     # constraint of matrix A\n",
    "    aeq = np.array([[x0[i] if i<n else 0 for i in range(n+J+1)]])\n",
    "    beq = sum(q[i]*x0[i] for i in range(n))\n",
    "\n",
    "    res = linprog(c=c, A_ub =A, b_ub =b, A_eq = aeq, b_eq = beq, bounds=[(0,None)]*(J+n+1))\n",
    "\n",
    "\n",
    "\n",
    "\n",
    "\n",
    "    return res.fun, res"
   ]
  },
  {
   "cell_type": "code",
   "execution_count": 102,
   "metadata": {},
   "outputs": [
    {
     "data": {
      "text/plain": [
       "(-26773.744941787205,\n",
       "            con: array([0.])\n",
       "  crossover_nit: 0\n",
       "          eqlin:  marginals: array([-0.105])\n",
       "   residual: array([0.])\n",
       "            fun: -26773.744941787205\n",
       "        ineqlin:  marginals: array([-2.303, -0.   , -0.   , ..., -0.   , -0.   , -0.   ])\n",
       "   residual: array([    0.   ,  8805.993,  5436.262, ..., 34298.565, 46354.227,\n",
       "        16172.23 ])\n",
       "          lower:  marginals: array([13.787, 19.934, 18.698, ...,  0.023,  0.023,  2.234])\n",
       "   residual: array([0., 0., 0., ..., 0., 0., 0.])\n",
       "        message: 'Optimization terminated successfully. (HiGHS Status 7: Optimal)'\n",
       "            nit: 71\n",
       "          slack: array([    0.   ,  8805.993,  5436.262, ..., 34298.565, 46354.227,\n",
       "        16172.23 ])\n",
       "         status: 0\n",
       "        success: True\n",
       "          upper:  marginals: array([0., 0., 0., ..., 0., 0., 0.])\n",
       "   residual: array([inf, inf, inf, ..., inf, inf, inf])\n",
       "              x: array([0., 0., 0., ..., 0., 0., 0.]))"
      ]
     },
     "execution_count": 102,
     "metadata": {},
     "output_type": "execute_result"
    }
   ],
   "source": [
    "main2(10000,30,0.99, 0.01, data=ran)"
   ]
  },
  {
   "cell_type": "code",
   "execution_count": null,
   "metadata": {},
   "outputs": [],
   "source": []
  }
 ],
 "metadata": {
  "kernelspec": {
   "display_name": "Python 3",
   "language": "python",
   "name": "python3"
  },
  "language_info": {
   "codemirror_mode": {
    "name": "ipython",
    "version": 3
   },
   "file_extension": ".py",
   "mimetype": "text/x-python",
   "name": "python",
   "nbconvert_exporter": "python",
   "pygments_lexer": "ipython3",
   "version": "3.10.6"
  },
  "orig_nbformat": 4
 },
 "nbformat": 4,
 "nbformat_minor": 2
}
